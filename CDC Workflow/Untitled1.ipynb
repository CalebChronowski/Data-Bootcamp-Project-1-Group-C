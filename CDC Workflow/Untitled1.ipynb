{
 "cells": [
  {
   "cell_type": "code",
   "execution_count": 42,
   "metadata": {},
   "outputs": [],
   "source": [
    "%matplotlib inline\n",
    "import matplotlib.pyplot as plt\n",
    "import matplotlib.ticker as mtick\n",
    "import pandas as pd\n",
    "import numpy as np\n",
    "import os\n",
    "from itertools import cycle, islice\n",
    "# Hide warning messages in notebook\n",
    "import warnings\n",
    "warnings.filterwarnings('ignore')\n",
    "\n",
    "import seaborn"
   ]
  },
  {
   "cell_type": "code",
   "execution_count": 43,
   "metadata": {},
   "outputs": [],
   "source": [
    "csv_to_load = \"../Resources/joined.csv\"\n",
    "nyt_to_load = \"../Resources/NYT.csv\"\n",
    "cdc_to_load = \"../Resources/CDC.csv\"\n",
    "ggl_to_load = \"../Resources/GOOG.csv\"\n",
    "cdcy_to_load = \"../Resources/CDCYear.csv\"\n",
    "ggly_to_load = \"../Resources/GOOGYear.csv\"\n",
    "nyty_to_load = \"../Resources/NYTYear.csv\"\n",
    "joined_to_load = '../Resources/joined.csv'\n",
    "csv = pd.read_csv(csv_to_load)\n",
    "nyt = pd.read_csv(nyt_to_load)\n",
    "cdc = pd.read_csv(cdc_to_load)\n",
    "ggl = pd.read_csv(ggl_to_load)\n",
    "cdcy = pd.read_csv(cdcy_to_load)\n",
    "ggly = pd.read_csv(ggly_to_load)\n",
    "nyty = pd.read_csv(nyty_to_load)\n",
    "joined_csv = pd.read_csv(joined_to_load)"
   ]
  },
  {
   "cell_type": "code",
   "execution_count": 44,
   "metadata": {},
   "outputs": [],
   "source": [
    "csv_df = pd.DataFrame(csv)\n",
    "nyt_df = pd.DataFrame(nyt)\n",
    "cdc_df = pd.DataFrame(cdc)\n",
    "ggl_df = pd.DataFrame(ggl)\n",
    "cdcy_df = pd.DataFrame(cdcy)\n",
    "nyty_df = pd.DataFrame(nyty)\n",
    "ggly_df = pd.DataFrame(ggly)\n",
    "joined_df = pd.DataFrame(joined_csv)"
   ]
  },
  {
   "cell_type": "code",
   "execution_count": 45,
   "metadata": {},
   "outputs": [
    {
     "data": {
      "text/html": [
       "<div>\n",
       "<style scoped>\n",
       "    .dataframe tbody tr th:only-of-type {\n",
       "        vertical-align: middle;\n",
       "    }\n",
       "\n",
       "    .dataframe tbody tr th {\n",
       "        vertical-align: top;\n",
       "    }\n",
       "\n",
       "    .dataframe thead th {\n",
       "        text-align: right;\n",
       "    }\n",
       "</style>\n",
       "<table border=\"1\" class=\"dataframe\">\n",
       "  <thead>\n",
       "    <tr style=\"text-align: right;\">\n",
       "      <th></th>\n",
       "      <th>causes</th>\n",
       "      <th>year</th>\n",
       "      <th>cdc</th>\n",
       "      <th>nyt</th>\n",
       "      <th>ggl</th>\n",
       "    </tr>\n",
       "  </thead>\n",
       "  <tbody>\n",
       "    <tr>\n",
       "      <th>0</th>\n",
       "      <td>alzhiemers</td>\n",
       "      <td>2006</td>\n",
       "      <td>24.275093</td>\n",
       "      <td>531</td>\n",
       "      <td>61.3</td>\n",
       "    </tr>\n",
       "    <tr>\n",
       "      <th>1</th>\n",
       "      <td>alzhiemers</td>\n",
       "      <td>2007</td>\n",
       "      <td>24.775653</td>\n",
       "      <td>391</td>\n",
       "      <td>54.7</td>\n",
       "    </tr>\n",
       "    <tr>\n",
       "      <th>2</th>\n",
       "      <td>alzhiemers</td>\n",
       "      <td>2008</td>\n",
       "      <td>27.108397</td>\n",
       "      <td>361</td>\n",
       "      <td>55.0</td>\n",
       "    </tr>\n",
       "    <tr>\n",
       "      <th>3</th>\n",
       "      <td>alzhiemers</td>\n",
       "      <td>2009</td>\n",
       "      <td>25.753042</td>\n",
       "      <td>427</td>\n",
       "      <td>50.2</td>\n",
       "    </tr>\n",
       "    <tr>\n",
       "      <th>4</th>\n",
       "      <td>alzhiemers</td>\n",
       "      <td>2010</td>\n",
       "      <td>27.042982</td>\n",
       "      <td>313</td>\n",
       "      <td>32.8</td>\n",
       "    </tr>\n",
       "  </tbody>\n",
       "</table>\n",
       "</div>"
      ],
      "text/plain": [
       "       causes  year        cdc  nyt   ggl\n",
       "0  alzhiemers  2006  24.275093  531  61.3\n",
       "1  alzhiemers  2007  24.775653  391  54.7\n",
       "2  alzhiemers  2008  27.108397  361  55.0\n",
       "3  alzhiemers  2009  25.753042  427  50.2\n",
       "4  alzhiemers  2010  27.042982  313  32.8"
      ]
     },
     "execution_count": 45,
     "metadata": {},
     "output_type": "execute_result"
    }
   ],
   "source": [
    "joined_df.head()"
   ]
  },
  {
   "cell_type": "code",
   "execution_count": 55,
   "metadata": {},
   "outputs": [],
   "source": [
    "joined_df.plot(kind = 'line', x = 'year', y = 'cdc', color = 'red', ax = ax, figsize = (15, 5))\n",
    "plt.show()"
   ]
  },
  {
   "cell_type": "code",
   "execution_count": null,
   "metadata": {
    "scrolled": true
   },
   "outputs": [],
   "source": []
  },
  {
   "cell_type": "code",
   "execution_count": null,
   "metadata": {},
   "outputs": [],
   "source": []
  },
  {
   "cell_type": "code",
   "execution_count": null,
   "metadata": {},
   "outputs": [],
   "source": []
  }
 ],
 "metadata": {
  "kernelspec": {
   "display_name": "Python 3",
   "language": "python",
   "name": "python3"
  },
  "language_info": {
   "codemirror_mode": {
    "name": "ipython",
    "version": 3
   },
   "file_extension": ".py",
   "mimetype": "text/x-python",
   "name": "python",
   "nbconvert_exporter": "python",
   "pygments_lexer": "ipython3",
   "version": "3.7.3"
  }
 },
 "nbformat": 4,
 "nbformat_minor": 2
}
